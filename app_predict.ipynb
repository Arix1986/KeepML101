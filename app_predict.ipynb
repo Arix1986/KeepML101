{
 "cells": [
  {
   "cell_type": "code",
   "execution_count": 1,
   "metadata": {},
   "outputs": [],
   "source": [
    "from model import Models\n",
    "from sklearn.metrics import  r2_score,mean_squared_error\n",
    "import pandas as pd\n",
    "import preprocessing\n",
    "    \n",
    "df_train=pd.read_csv('./data/airbnb_train.csv', sep=\";\",decimal='.' )\n",
    "df_test=pd.read_csv('./data/airbnb_test.csv', sep=\";\",decimal='.' )\n",
    "\n",
    "df_train=df_train.dropna(subset=['Price'])\n",
    "df_test=df_test.dropna(subset=['Price'])\n",
    "df_train=preprocessing.filtrar_columnas(df_train,['Cleaning Fee','Accommodates','Room Type','Host Listings Count','Bathrooms','Bedrooms','Guests Included','Price'])\n",
    "df_train , imputer , xnumeric = preprocessing.imputer_data_numeric_2(df_train)\n",
    "df_train , encoding= preprocessing.encoding_categorical_column_2(df_train)"
   ]
  },
  {
   "cell_type": "code",
   "execution_count": 2,
   "metadata": {},
   "outputs": [
    {
     "data": {
      "text/plain": [
       "Series([], dtype: int64)"
      ]
     },
     "execution_count": 2,
     "metadata": {},
     "output_type": "execute_result"
    }
   ],
   "source": [
    "hf = df_train.isnull().sum()\n",
    "columns_with_null= hf[hf > 0]\n",
    "columns_with_null"
   ]
  },
  {
   "cell_type": "code",
   "execution_count": 3,
   "metadata": {},
   "outputs": [],
   "source": [
    "df_test = df_test[df_train.columns.intersection(df_test.columns)]\n",
    "df_test[xnumeric] = imputer.transform(df_test[xnumeric])"
   ]
  },
  {
   "cell_type": "code",
   "execution_count": 4,
   "metadata": {},
   "outputs": [
    {
     "data": {
      "text/plain": [
       "Index(['Cleaning Fee', 'Accommodates', 'Room Type', 'Host Listings Count',\n",
       "       'Bathrooms', 'Bedrooms', 'Guests Included', 'Price'],\n",
       "      dtype='object')"
      ]
     },
     "execution_count": 4,
     "metadata": {},
     "output_type": "execute_result"
    }
   ],
   "source": [
    "df_test.columns"
   ]
  },
  {
   "cell_type": "code",
   "execution_count": 5,
   "metadata": {},
   "outputs": [
    {
     "data": {
      "text/plain": [
       "Series([], dtype: int64)"
      ]
     },
     "execution_count": 5,
     "metadata": {},
     "output_type": "execute_result"
    }
   ],
   "source": [
    "hf = df_test.isnull().sum()\n",
    "columns_with_null= hf[hf > 0]\n",
    "columns_with_null"
   ]
  },
  {
   "cell_type": "code",
   "execution_count": 6,
   "metadata": {},
   "outputs": [],
   "source": [
    "preprocessing.save_label_encoder(encoding)"
   ]
  },
  {
   "cell_type": "code",
   "execution_count": 7,
   "metadata": {},
   "outputs": [],
   "source": [
    "for col, encoder_info in encoding.items():\n",
    "    if encoder_info['type'] == 'LabelEncoder':\n",
    "        df_test[col] = encoder_info['model'].transform(df_test[col].astype(str)) if col in encoder_info['model'].classes_ else -1\n",
    "      "
   ]
  },
  {
   "cell_type": "code",
   "execution_count": 8,
   "metadata": {},
   "outputs": [],
   "source": [
    "X_train = df_train.drop(columns=[\"Price\"]) \n",
    "y_train = df_train[\"Price\"] \n",
    "X_test = df_test.drop(columns=[\"Price\"])\n",
    "y_test = df_test[\"Price\"]"
   ]
  },
  {
   "cell_type": "code",
   "execution_count": null,
   "metadata": {},
   "outputs": [],
   "source": [
    "model=Models()\n",
    "model.y_test=y_test\n",
    "model.X_test=X_test\n",
    "model.grid_training(X_train,y_train)\n",
    "bestm=model.get_best_model()\n",
    "y_predict=bestm.predict(X_test)\n",
    "test_r2 = r2_score(y_test, y_predict)\n",
    "test_mse = mean_squared_error(y_test, y_predict)\n",
    "print(f\"Test R^2: {test_r2:.4f}\")\n",
    "print(f\"Test MSE: {test_mse:.4f}\")"
   ]
  }
 ],
 "metadata": {
  "kernelspec": {
   "display_name": "base",
   "language": "python",
   "name": "python3"
  },
  "language_info": {
   "codemirror_mode": {
    "name": "ipython",
    "version": 3
   },
   "file_extension": ".py",
   "mimetype": "text/x-python",
   "name": "python",
   "nbconvert_exporter": "python",
   "pygments_lexer": "ipython3",
   "version": "3.11.7"
  }
 },
 "nbformat": 4,
 "nbformat_minor": 2
}
