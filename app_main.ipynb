{
 "cells": [
  {
   "cell_type": "code",
   "execution_count": 1,
   "metadata": {},
   "outputs": [],
   "source": [
    "import pickle\n",
    "import pandas as pd\n",
    "\n",
    "with open('models/best_model_0.778.pkl', 'rb') as model_file:\n",
    "    model = pickle.load(model_file)"
   ]
  },
  {
   "cell_type": "code",
   "execution_count": 2,
   "metadata": {},
   "outputs": [],
   "source": [
    "df_test = pd.DataFrame({\n",
    "    'Hab': [10, 12, 14],\n",
    "    'Bedrooms': [3, 1, 1],\n",
    "    'Cleaning Fee':[40,20,30],\n",
    "    'Bathrooms':[2,1,1],\n",
    "    'Guests Included':[2,1,1],\n",
    "    'Host Listings Count':[17,16,5]\n",
    "})"
   ]
  },
  {
   "cell_type": "code",
   "execution_count": 3,
   "metadata": {},
   "outputs": [
    {
     "name": "stdout",
     "output_type": "stream",
     "text": [
      "[106.62761273  61.90660482  60.11313789]\n"
     ]
    }
   ],
   "source": [
    "predictions = model.predict(df_test)\n",
    "print(predictions)"
   ]
  },
  {
   "cell_type": "markdown",
   "metadata": {},
   "source": [
    "*Resumen: El modelo LightGBM fue el de mejor resultado r2 de 0.7784, aún asi el modelo no es capaz de generalizar y no se pudo replicar esos resultados,por lo que se debe continuar ajustando parámetros como min_data_in_leaf y bagging_fraction, evaluar la creación de nuevas features para mejorar aún más el rendimiento.*\n",
    "\n"
   ]
  },
  {
   "cell_type": "code",
   "execution_count": 6,
   "metadata": {},
   "outputs": [
    {
     "name": "stdout",
     "output_type": "stream",
     "text": [
      "R² del modelo: 0.7784\n",
      "Error cuadrático medio (MSE): 1206.4821\n"
     ]
    }
   ],
   "source": [
    "from sklearn.metrics import r2_score, mean_squared_error\n",
    "import preprocessing\n",
    "df_train=pd.read_csv('./data/airbnb_train.csv', sep=\";\",decimal='.' )\n",
    "df_test=pd.read_csv('./data/airbnb_test.csv', sep=\";\",decimal='.' )\n",
    "\n",
    "df_train=df_train.dropna(subset=['Price'])\n",
    "df_test=df_test.dropna(subset=['Price'])\n",
    "df_train=preprocessing.filtrar_columnas(df_train,['Cleaning Fee','Accommodates','Room Type','Host Listings Count','Bathrooms','Bedrooms','Guests Included','Price','Beds'])\n",
    "df_train , imputer , xnumeric = preprocessing.imputer_data_numeric_2(df_train)\n",
    "\n",
    "\n",
    "df_train['Hab']=df_train['Beds']+df_train['Accommodates']\n",
    "df_train=preprocessing.filtrar_columnas(df_train,['Cleaning Fee','Price','Host Listings Count','Guests Included','Bathrooms','Bedrooms','Hab'])\n",
    "df_test[xnumeric] = imputer.transform(df_test[xnumeric])\n",
    "df_test['Hab']=df_test['Beds']+df_test['Accommodates']\n",
    "df_test = df_test[df_train.columns.intersection(df_test.columns)]\n",
    "\n",
    "\n",
    "        \n",
    "X_train = df_train.drop(columns=[\"Price\"]) \n",
    "y_train = df_train[\"Price\"] \n",
    "X_test = df_test.drop(columns=[\"Price\"])\n",
    "y_test = df_test[\"Price\"]\n",
    "        \n",
    "y_pred = model.predict(X_test)\n",
    "\n",
    "\n",
    "r2 = r2_score(y_test, y_pred)\n",
    "mse = mean_squared_error(y_test, y_pred)\n",
    "\n",
    "print(f\"R² del modelo: {r2:.4f}\")\n",
    "print(f\"Error cuadrático medio (MSE): {mse:.4f}\")"
   ]
  },
  {
   "cell_type": "markdown",
   "metadata": {},
   "source": [
    "**Error medio aprox 34.7 euros**"
   ]
  }
 ],
 "metadata": {
  "kernelspec": {
   "display_name": "base",
   "language": "python",
   "name": "python3"
  },
  "language_info": {
   "codemirror_mode": {
    "name": "ipython",
    "version": 3
   },
   "file_extension": ".py",
   "mimetype": "text/x-python",
   "name": "python",
   "nbconvert_exporter": "python",
   "pygments_lexer": "ipython3",
   "version": "3.11.7"
  }
 },
 "nbformat": 4,
 "nbformat_minor": 2
}
