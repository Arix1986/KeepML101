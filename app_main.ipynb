{
 "cells": [
  {
   "cell_type": "code",
   "execution_count": 1,
   "metadata": {},
   "outputs": [],
   "source": [
    "import pickle\n",
    "import pandas as pd\n",
    "\n",
    "\n",
    "with open('models/label_encoder_RoomType.pkl', 'rb') as le_file:\n",
    "     label_encoder_roomtype = pickle.load(le_file)     \n",
    "\n",
    "with open('models/best_model_0.740.pkl', 'rb') as model_file:\n",
    "    model = pickle.load(model_file)"
   ]
  },
  {
   "cell_type": "code",
   "execution_count": 2,
   "metadata": {},
   "outputs": [],
   "source": [
    "df_test = pd.DataFrame({\n",
    "    'Room Type': ['Entire home/apt', 'Private room', 'Shared room'],\n",
    "    'Accommodates': [6, 2, 4],\n",
    "    'Bedrooms': [3, 1, 1],\n",
    "    'Cleaning Fee':[40,20,10],\n",
    "    'Bathrooms':[2,1,1],\n",
    "    'Guests Included':[2,1,1],\n",
    "    'Host Listings Count':[17,16,5]\n",
    "})"
   ]
  },
  {
   "cell_type": "code",
   "execution_count": 3,
   "metadata": {},
   "outputs": [],
   "source": [
    "df_test['Room Type'] = label_encoder_roomtype['model'].transform(df_test['Room Type'])\n"
   ]
  },
  {
   "cell_type": "code",
   "execution_count": 4,
   "metadata": {},
   "outputs": [
    {
     "name": "stdout",
     "output_type": "stream",
     "text": [
      "[LightGBM] [Warning] feature_fraction is set=0.767866318661752, colsample_bytree=1.0 will be ignored. Current value: feature_fraction=0.767866318661752\n",
      "[41.49548023 37.24776078 32.84312371]\n"
     ]
    }
   ],
   "source": [
    "predictions = model.predict(df_test)\n",
    "print(predictions)"
   ]
  },
  {
   "cell_type": "markdown",
   "metadata": {},
   "source": [
    "*Resumen: El modelo LightGBM fue el de mejor resultado r2 de 0.7845, aún asi el modelo no es capaz de generalizar y no se pudo replicar esos resultados,por lo que se debe continuar ajustando parámetros como min_data_in_leaf y bagging_fraction, evaluar la creación de nuevas features para mejorar aún más el rendimiento.*\n",
    "\n",
    "La diferencia de features entre el modelo .7845 y el resto es la inclusión de la varia Beds al modelo."
   ]
  },
  {
   "cell_type": "code",
   "execution_count": null,
   "metadata": {},
   "outputs": [
    {
     "name": "stdout",
     "output_type": "stream",
     "text": [
      "[LightGBM] [Warning] feature_fraction is set=0.767866318661752, colsample_bytree=1.0 will be ignored. Current value: feature_fraction=0.767866318661752\n",
      "R² del modelo: 0.7403\n",
      "Error cuadrático medio (MSE): 1413.8822\n"
     ]
    }
   ],
   "source": [
    "from sklearn.metrics import r2_score, mean_squared_error\n",
    "import preprocessing\n",
    "df_train=pd.read_csv('./data/airbnb_train.csv', sep=\";\",decimal='.' )\n",
    "df_test=pd.read_csv('./data/airbnb_test.csv', sep=\";\",decimal='.' )\n",
    "\n",
    "df_train=df_train.dropna(subset=['Price'])\n",
    "df_test=df_test.dropna(subset=['Price'])\n",
    "df_train=preprocessing.filtrar_columnas(df_train,['Cleaning Fee','Accommodates','Room Type','Host Listings Count','Bathrooms','Bedrooms','Guests Included','Price'])\n",
    "df_train , imputer , xnumeric = preprocessing.imputer_data_numeric_2(df_train)\n",
    "df_train , encoding= preprocessing.encoding_categorical_column_2(df_train)\n",
    "\n",
    "df_test = df_test[df_train.columns.intersection(df_test.columns)]\n",
    "df_test[xnumeric] = imputer.transform(df_test[xnumeric])\n",
    "\n",
    "for col, encoder_info in encoding.items():\n",
    "    if encoder_info['type'] == 'LabelEncoder':\n",
    "        df_test[col] = encoder_info['model'].transform(df_test[col].astype(str)) if col in encoder_info['model'].classes_ else -1\n",
    "        \n",
    "X_train = df_train.drop(columns=[\"Price\"]) \n",
    "y_train = df_train[\"Price\"] \n",
    "X_test = df_test.drop(columns=[\"Price\"])\n",
    "y_test = df_test[\"Price\"]\n",
    "        \n",
    "y_pred = model.predict(X_test)\n",
    "\n",
    "\n",
    "r2 = r2_score(y_test, y_pred)\n",
    "mse = mean_squared_error(y_test, y_pred)\n",
    "\n",
    "print(f\"R² del modelo: {r2:.4f}\")\n",
    "print(f\"Error cuadrático medio (MSE): {mse:.4f}\")"
   ]
  }
 ],
 "metadata": {
  "kernelspec": {
   "display_name": "base",
   "language": "python",
   "name": "python3"
  },
  "language_info": {
   "codemirror_mode": {
    "name": "ipython",
    "version": 3
   },
   "file_extension": ".py",
   "mimetype": "text/x-python",
   "name": "python",
   "nbconvert_exporter": "python",
   "pygments_lexer": "ipython3",
   "version": "3.11.7"
  }
 },
 "nbformat": 4,
 "nbformat_minor": 2
}
