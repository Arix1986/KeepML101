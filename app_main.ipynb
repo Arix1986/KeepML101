{
 "cells": [
  {
   "cell_type": "code",
   "execution_count": 7,
   "metadata": {},
   "outputs": [],
   "source": [
    "import pickle\n",
    "import pandas as pd\n",
    "\n",
    "with open('models/best_model_0.780.pkl', 'rb') as model_file:\n",
    "    model = pickle.load(model_file)\n",
    "    \n",
    "with open('models/numeric_inputer.pkl', 'rb') as inputer_file:\n",
    "    model_inputer = pickle.load(inputer_file)    "
   ]
  },
  {
   "cell_type": "code",
   "execution_count": 8,
   "metadata": {},
   "outputs": [],
   "source": [
    "df_test = pd.DataFrame({\n",
    "    'Hab': [10, 12, 14],\n",
    "    'Bedrooms': [3, 1, 1],\n",
    "    'Cleaning Fee':[40,20,30],\n",
    "    'Bathrooms':[2,1,1],\n",
    "    'Guests Included':[2,1,1],\n",
    "    'Host Listings Count':[17,16,5]\n",
    "})"
   ]
  },
  {
   "cell_type": "code",
   "execution_count": 9,
   "metadata": {},
   "outputs": [
    {
     "name": "stdout",
     "output_type": "stream",
     "text": [
      "[106.62153141  62.58072382  62.01257831]\n"
     ]
    }
   ],
   "source": [
    "predictions = model.predict(df_test)\n",
    "print(predictions)"
   ]
  },
  {
   "cell_type": "markdown",
   "metadata": {},
   "source": [
    "*Resumen: El modelo LightGBM fue el de mejor resultado r2 de 0.7805, se debe continuar ajustando parámetros como min_data_in_leaf y bagging_fraction, evaluar la creación de nuevas features para mejorar aún más el rendimiento.*\n",
    "\n"
   ]
  },
  {
   "cell_type": "code",
   "execution_count": 11,
   "metadata": {},
   "outputs": [
    {
     "name": "stdout",
     "output_type": "stream",
     "text": [
      "R² del modelo: 0.7805\n",
      "Error cuadrático medio (MSE): 1194.7328\n"
     ]
    }
   ],
   "source": [
    "from sklearn.metrics import r2_score, mean_squared_error\n",
    "import preprocessing\n",
    "\n",
    "df_test=pd.read_csv('./data/airbnb_test.csv', sep=\";\",decimal='.' )\n",
    "\n",
    "\n",
    "df_test=df_test.dropna(subset=['Price'])\n",
    "df_test=preprocessing.filtrar_columnas(df_test,['Cleaning Fee','Accommodates','Host Listings Count','Bathrooms','Bedrooms','Guests Included','Price','Beds'])\n",
    "df_numeric = df_test.select_dtypes(include=['float64', 'int64'])\n",
    "xnumeric=df_numeric.columns\n",
    "df_test[xnumeric] = model_inputer.transform(df_test[xnumeric])\n",
    "df_test['Hab']=df_test['Beds']+df_test['Accommodates']\n",
    "df_test=preprocessing.filtrar_columnas(df_test,['Cleaning Fee','Price','Host Listings Count','Guests Included','Bathrooms','Bedrooms','Hab'])\n",
    "\n",
    "X_test = df_test.drop(columns=[\"Price\"])\n",
    "y_test = df_test[\"Price\"]\n",
    "        \n",
    "y_pred = model.predict(X_test)\n",
    "\n",
    "\n",
    "r2 = r2_score(y_test, y_pred)\n",
    "mse = mean_squared_error(y_test, y_pred)\n",
    "\n",
    "print(f\"R² del modelo: {r2:.4f}\")\n",
    "print(f\"Error cuadrático medio (MSE): {mse:.4f}\")"
   ]
  },
  {
   "cell_type": "markdown",
   "metadata": {},
   "source": [
    "**Error medio aprox 34.5 euros**"
   ]
  },
  {
   "cell_type": "markdown",
   "metadata": {},
   "source": []
  }
 ],
 "metadata": {
  "kernelspec": {
   "display_name": "base",
   "language": "python",
   "name": "python3"
  },
  "language_info": {
   "codemirror_mode": {
    "name": "ipython",
    "version": 3
   },
   "file_extension": ".py",
   "mimetype": "text/x-python",
   "name": "python",
   "nbconvert_exporter": "python",
   "pygments_lexer": "ipython3",
   "version": "3.11.7"
  }
 },
 "nbformat": 4,
 "nbformat_minor": 2
}
